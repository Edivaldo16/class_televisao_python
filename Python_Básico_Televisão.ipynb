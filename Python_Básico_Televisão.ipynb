{
  "nbformat": 4,
  "nbformat_minor": 0,
  "metadata": {
    "colab": {
      "name": "Python Básico_Televisão.ipynb",
      "provenance": [],
      "authorship_tag": "ABX9TyMiTjfw++MprByWeQj/SGnO",
      "include_colab_link": true
    },
    "kernelspec": {
      "name": "python3",
      "display_name": "Python 3"
    },
    "language_info": {
      "name": "python"
    }
  },
  "cells": [
    {
      "cell_type": "markdown",
      "metadata": {
        "id": "view-in-github",
        "colab_type": "text"
      },
      "source": [
        "<a href=\"https://colab.research.google.com/github/Edivaldo16/class_televisao_python/blob/main/Python_B%C3%A1sico_Televis%C3%A3o.ipynb\" target=\"_parent\"><img src=\"https://colab.research.google.com/assets/colab-badge.svg\" alt=\"Open In Colab\"/></a>"
      ]
    },
    {
      "cell_type": "markdown",
      "metadata": {
        "id": "akW86_lZPisa"
      },
      "source": [
        "# **Curso de Python Básico: Implementação de uma classe em Python**"
      ]
    },
    {
      "cell_type": "code",
      "metadata": {
        "id": "Chv-HW-TQBBb"
      },
      "source": [
        "class Televisao:\n",
        "    def __init__(self):\n",
        "        self.ligada = False\n",
        "        self.canal = 0\n",
        "        self.volume = 0\n",
        "\n",
        "    def power(self):\n",
        "        #if self.ligada == True:Não precisa pois ele já vem implementado como True por default\n",
        "        if self.ligada:\n",
        "            self.ligada = False\n",
        "            print('Desligando Televisão\\n')\n",
        "        else:\n",
        "            self.ligada = True\n",
        "            print('Televisão Ligada')\n",
        "            print('Opções de Canais entre 0 a 10')\n",
        "            print('Opções de Volume entre 0 a 10\\n')\n",
        "\n",
        "    def escolhe_canal(self):\n",
        "        self.canal = int(input('Digite o canal desejado (entre 0 a 10): \\n'))\n",
        "        while self.canal < 0 or self.canal > 10:\n",
        "            self.canal = int(input('Canal fora do range permitido. '\n",
        "                                   'Digite um valor entre 0 a 10: '))\n",
        "        print('Canal: {}'.format(self.canal))\n",
        "        print('Volume: {}'.format(self.volume))\n",
        "\n",
        "    def aumenta_canal(self):\n",
        "        self.canal += 1\n",
        "        if self.canal > 10:\n",
        "            self.canal = 0\n",
        "        print('\\n')\n",
        "        print('Canal: {}'.format(self.canal))\n",
        "        print('Volume: {}'.format(self.volume))\n",
        "        # print('O canal escolhido: {}\\n'.format(self.canal))\n",
        "    def diminui_canal(self):\n",
        "        self.canal -= 1\n",
        "        if(self.canal < 0):\n",
        "            self.canal = 10\n",
        "        print('\\n')\n",
        "        print('Canal: {}'.format(self.canal))\n",
        "        print('Volume: {}'.format(self.volume))\n",
        "        # print('O canal escolhido: {}\\n'.format(self.canal))\n",
        "\n",
        "    def aumenta_volume(self):\n",
        "        self.volume += 1\n",
        "        if self.volume > 10:\n",
        "            self.volume = 0\n",
        "        print('\\n')\n",
        "        print('Canal: {}'.format(self.canal))\n",
        "        print('Volume: {}'.format(self.volume))\n",
        "        # print('O volume escolhido: {}\\n'.format(self.volume))\n",
        "    def diminui_volume(self):\n",
        "        self.volume -= 1\n",
        "        if(self.volume < 0):\n",
        "            self.volume = 10\n",
        "        print('\\n')\n",
        "        print('Canal: {}'.format(self.canal))\n",
        "        print('Volume: {}'.format(self.volume))\n",
        "        # print('O volume escolhido: {}\\n'.format(self.volume))\n",
        "\n",
        "    # def menu(self):\n",
        "    #     print('Canal: {}'.format(self.canal))\n",
        "    #     print('Volume: {}'.format(self.volume))\n",
        "\n",
        "televisao = Televisao()\n",
        "\n",
        "if __name__ == '__main__':\n",
        "    # print('Televisão Ligada: {}'.format(televisao.ligada))\n",
        "    # televisao.power()\n",
        "    # print('Televisão Ligada: {}'.format(televisao.ligada))\n",
        "    # televisao.power()\n",
        "    # print('Televisão Ligada: {}'.format(televisao.ligada))\n",
        "    # print('Canal: {}'.format(televisao.canal))\n",
        "    # televisao.diminui_canal()\n",
        "    # # televisao.aumenta_canal()\n",
        "    # print('Canal: {}'.format(televisao.canal))\n",
        "    # televisao.diminui_canal()\n",
        "    # print('Canal: {}'.format(televisao.canal))\n",
        "    # televisao.diminui_canal()\n",
        "    # print('Canal: {}'.format(televisao.canal))\n",
        "    televisao.power()\n",
        "    televisao.power()\n",
        "\n",
        "    televisao.aumenta_volume()\n",
        "    televisao.aumenta_volume()\n",
        "    televisao.aumenta_volume()\n",
        "    televisao.aumenta_volume()\n",
        "    televisao.aumenta_volume()\n",
        "    televisao.aumenta_volume()\n",
        "    televisao.escolhe_canal()\n",
        "    televisao.diminui_volume()"
      ],
      "execution_count": null,
      "outputs": []
    },
    {
      "cell_type": "markdown",
      "metadata": {
        "id": "E6CqgsokQQYd"
      },
      "source": [
        ""
      ]
    },
    {
      "cell_type": "markdown",
      "metadata": {
        "id": "arJl3rY2QQ19"
      },
      "source": [
        ""
      ]
    }
  ]
}